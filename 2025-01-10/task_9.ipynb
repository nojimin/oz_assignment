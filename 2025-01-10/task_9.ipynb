{
 "cells": [
  {
   "cell_type": "markdown",
   "metadata": {},
   "source": [
    "animals라는 패키지를 만들고, 이 패키지 내에 mammals, birds라는 두 개의 서브 모듈을 생성하세요. \n",
    "\n",
    "- 각 모듈에는 최소한 한 개 이상의 동물에 관한 클래스를 정의하세요<br>\n",
    "  (예: mammals에는 Dog, birds에는 Eagle)\n",
    "- 이 패키지와 모듈을 사용하여 동물들의 정보를 출력하는 프로그램을 작성\n",
    "\n",
    "폴더 및 파일 구조\n",
    "```\n",
    "animals/(폴더)\n",
    "├── __init__.py\n",
    "├── mammals.py\n",
    "└── birds.py\n",
    "```\n"
   ]
  },
  {
   "cell_type": "code",
   "execution_count": 1,
   "metadata": {},
   "outputs": [
    {
     "name": "stdout",
     "output_type": "stream",
     "text": [
      "댕댕이은(는) 종은 리트리버이고, 나이는 3세이며, 몸무게는 10kg입니다.\n",
      "독수리은(는) 종은 흰꼬리독수리이고, 나이는 5세이며, 몸무게는 5kg이며, 날개 길이는 2cm입니다.\n"
     ]
    }
   ],
   "source": [
    "from animals.mammals import Dog\n",
    "from animals.birds import Eagle\n",
    "\n",
    "# 동물 객체 생성 및 리스트에 추가\n",
    "animals = []\n",
    "animals.append(Dog(name=\"댕댕이\", species=\"리트리버\" ,age=3, weight=10))\n",
    "animals.append(Eagle(name=\"독수리\", species=\"흰꼬리독수리\", age=5, weight=5, wingspan=2))\n",
    "\n",
    "# 정보 출력\n",
    "for animal in animals:\n",
    "    print(animal.info())\n"
   ]
  }
 ],
 "metadata": {
  "kernelspec": {
   "display_name": "Python 3",
   "language": "python",
   "name": "python3"
  },
  "language_info": {
   "codemirror_mode": {
    "name": "ipython",
    "version": 3
   },
   "file_extension": ".py",
   "mimetype": "text/x-python",
   "name": "python",
   "nbconvert_exporter": "python",
   "pygments_lexer": "ipython3",
   "version": "3.7.1"
  }
 },
 "nbformat": 4,
 "nbformat_minor": 2
}
