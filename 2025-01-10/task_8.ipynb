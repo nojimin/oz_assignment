{
 "cells": [
  {
   "cell_type": "markdown",
   "metadata": {},
   "source": [
    "여러분이 자주 사용하는 수학적 연산<br>\n",
    "(예: 삼각형 넓이, 원의 넓이, 직육면체의 넓이)을 수행하는 함수들을 포함하는 mymath.py라는 이름의 모듈을 만드세요. \n",
    "\n",
    "이 모듈을 사용하여 작성된 함수들을 실제로 임포트하고 사용하는 간단한 프로그램을 작성하세요."
   ]
  },
  {
   "cell_type": "code",
   "execution_count": 8,
   "metadata": {},
   "outputs": [
    {
     "name": "stdout",
     "output_type": "stream",
     "text": [
      "삼각형의 넓이 (밑변: 10, 높이: 5): 25.0\n",
      "원의 넓이 (반지름: 10): 314.0\n",
      "직육면체의 넓이 (가로: 10, 세로: 5, 높이: 2): 160\n"
     ]
    }
   ],
   "source": [
    "import mymath\n",
    "\n",
    "def main():\n",
    "    x, y, z = 10, 5, 2\n",
    "    print(f'삼각형의 넓이 (밑변: {x}, 높이: {y}): {mymath.triangle(x, y)}')\n",
    "\n",
    "    print(f'원의 넓이 (반지름: {x}): {mymath.circle(x)}')\n",
    "\n",
    "    print(f'직육면체의 넓이 (가로: {x}, 세로: {y}, 높이: {z}): {mymath.rectangular(x, y, z)}')\n",
    "\n",
    "if __name__ == '__main__':\n",
    "    main()"
   ]
  }
 ],
 "metadata": {
  "kernelspec": {
   "display_name": "Python 3",
   "language": "python",
   "name": "python3"
  },
  "language_info": {
   "codemirror_mode": {
    "name": "ipython",
    "version": 3
   },
   "file_extension": ".py",
   "mimetype": "text/x-python",
   "name": "python",
   "nbconvert_exporter": "python",
   "pygments_lexer": "ipython3",
   "version": "3.7.1"
  }
 },
 "nbformat": 4,
 "nbformat_minor": 2
}
