{
 "cells": [
  {
   "cell_type": "markdown",
   "metadata": {},
   "source": [
    "<span style=\"font-size:100%\">\n",
    "\n",
    "수업은 모두 열심히 들으셨나요?\n",
    "\n",
    "간혹 강의에서 언급되지 않은 내용이 문제로 나올 수 있습니다.<br>\n",
    "그럴땐 강의 내용 외 문제는 구글링을 통해 해결해주세요<br></span>\n",
    "<span style=\"font-size:80%\">\n",
    "(구글링 또한 개발자가 갖쳐야할 역량 중에 하나랍니다 😊)\n",
    "</span>\n",
    "\n",
    "---"
   ]
  },
  {
   "cell_type": "markdown",
   "metadata": {},
   "source": [
    "<span style=\"font-size:80%\">[문제1]<br><br></span>\n",
    "```인터프리트 방식에 대해 설명하고 2개 이상의 장점을 설명해주세요```"
   ]
  },
  {
   "cell_type": "markdown",
   "metadata": {},
   "source": [
    "<span style=\"color:red\">답변</span>"
   ]
  },
  {
   "cell_type": "markdown",
   "metadata": {},
   "source": [
    "인터프리트 방식이란 프로그램을 실행할 때 인터프리터를 이용하여 코드를 한줄 씩 읽어가며 실행하는 방식입니다.\n",
    "\n",
    "장점\n",
    "\n",
    "오류 발생 시 읽던 부분에서 멈추게 되므로 오류 발견이 쉬운편 이다.\n",
    "\n",
    "컴파일이라는 과정이 없기 때문에 오류에 대한 수정도 빠른편 이다."
   ]
  },
  {
   "cell_type": "markdown",
   "metadata": {},
   "source": [
    "---"
   ]
  },
  {
   "cell_type": "markdown",
   "metadata": {},
   "source": [
    "<span style=\"font-size:80%\">[문제2]<br><br></span>\n",
    "```동적 타입 방식의 장점과 단점을 간략히 설명해주세요```"
   ]
  },
  {
   "cell_type": "markdown",
   "metadata": {},
   "source": [
    "<span style=\"color:red\">답변</span>"
   ]
  },
  {
   "cell_type": "markdown",
   "metadata": {},
   "source": [
    "장점\n",
    "\n",
    "코드를 작성하는 시간이 빠르다.\n",
    "\n",
    "코드의 내용, 로직을 파악하기 쉽다.\n",
    "\n",
    "단점\n",
    "\n",
    "코드를 실행하는 속도가 느리다."
   ]
  },
  {
   "cell_type": "markdown",
   "metadata": {},
   "source": [
    "---"
   ]
  },
  {
   "cell_type": "markdown",
   "metadata": {},
   "source": [
    "<span style=\"font-size:80%\">[문제3]<br><br></span>\n",
    "```Python으로 정적타입 방식의 코드를 작성할 수 있는 방법을 구글링을 통해 검색 후 설명해주세요```"
   ]
  },
  {
   "cell_type": "markdown",
   "metadata": {},
   "source": [
    "<span style=\"color:red\">답변</span>"
   ]
  },
  {
   "cell_type": "markdown",
   "metadata": {},
   "source": [
    "타입 어노테이션(type annotation)은 파이썬 코드에 타입을 명시하는 것이 가능하도록 파이썬 3.5에 추가되었는데요.\n",
    "\n",
    "이 표준에 따라 변수나 함수, 클래스에 타입을 명시해준 파이썬 코드는 마치 Java나 C#처럼 정적 타입 검사가 가능해집니다.\n",
    "\n",
    "이를 통해서 코드가 실행하면서 발생할 수 있는 오류를 미리 발견해서 고칠 수 있습니다."
   ]
  },
  {
   "cell_type": "markdown",
   "metadata": {},
   "source": [
    "---"
   ]
  },
  {
   "cell_type": "markdown",
   "metadata": {},
   "source": [
    "<span style=\"font-size:80%\">[문제4]<br><br></span>\n",
    "```프로세스와 스레드의 차이점을 설명해주세요```"
   ]
  },
  {
   "cell_type": "markdown",
   "metadata": {},
   "source": [
    "<span style=\"color:red\">답변</span>"
   ]
  },
  {
   "cell_type": "markdown",
   "metadata": {},
   "source": [
    "프로세스와 스레드의 가장 큰 차이점은 메모리 공유와 실행 방식에 있습니다. 프로세스는 독립된 메모리 공간에서 실행되지만, 스레드는 프로세스 내에서 메모리를 공유하며 실행됩니다.\n",
    "\n",
    "왜냐하면 스레드는 프로세스의 자원을 공유하면서 동시에 여러 작업을 수행할 수 있기 때문에, 멀티스레딩을 통한 병렬 처리가 가능해집니다."
   ]
  },
  {
   "cell_type": "markdown",
   "metadata": {},
   "source": [
    "---"
   ]
  },
  {
   "cell_type": "markdown",
   "metadata": {},
   "source": [
    "<span style=\"font-size:80%\">[문제5]<br><br></span>\n",
    "```Python 2버전대와 3버전대의 차이를 성명해주세요```"
   ]
  },
  {
   "cell_type": "markdown",
   "metadata": {},
   "source": [
    "<span style=\"color:red\">답변</span>"
   ]
  },
  {
   "cell_type": "markdown",
   "metadata": {},
   "source": [
    "문자열 포맷\n",
    "\n",
    "Python3에서는 기본적으로 문자열은 Unicode\n",
    "\n",
    "Python2에서는 기본적으로 문자열은 ASCII 고로, Unicode시에는 \"u\"를 붙여야함\n",
    "\n",
    "나누기\n",
    "\n",
    "Python2에서는 정수 나눗셈일 경우 가장 가까운 정수까지 반올림을 한다.\n",
    "\n",
    "(소수점이 있을 경우 반올림 X)\n",
    "\n",
    "하지만 Python3 경우에는 소수점을 붙일 필요없이 계산한 결과 그대로 출력\n",
    "\n",
    "print 출력\n",
    "\n",
    "Python2 => print 'A'\n",
    "\n",
    "Python3 => print('A')\n",
    "\n",
    "범위 출력\n",
    "\n",
    "Python2: range(X) ,xrange(X)\n",
    "\n",
    "Python3: range(X) 만"
   ]
  },
  {
   "cell_type": "markdown",
   "metadata": {},
   "source": [
    "---"
   ]
  },
  {
   "cell_type": "markdown",
   "metadata": {},
   "source": [
    "<span style=\"font-size:80%\">[문제6]<br><br></span>\n",
    "```Python에서 메모리 관리는 어떻게 이루어지는지 설명해주세요```"
   ]
  },
  {
   "cell_type": "markdown",
   "metadata": {},
   "source": [
    "<span style=\"color:red\">답변</span>"
   ]
  },
  {
   "cell_type": "markdown",
   "metadata": {},
   "source": [
    "\n",
    "먼저, 파이썬은 자동으로 메모리를 관리하는 고급 프로그래밍 언어입니다. \n",
    "\n",
    "이것은 개발자가 직접 메모리 할당 및 해제를 관리하지 않고도 메모리 관리를 자동으로 처리할 수 있다는 것을 의미합니다.\n",
    "\n",
    "파이썬에서 메모리 관리는 참조 계수 referencecounting 기반으로 이루어집니다. \n",
    "\n",
    "이는 객체가 생성될 때마다 그 객체를 참조하는 변수의 개수를 추적하는 방식입니다. \n",
    "\n",
    "객체를 참조하는 변수의 개수가 0이되면, 해당 객체의 메모리는 자동으로 해제됩니다."
   ]
  }
 ],
 "metadata": {
  "language_info": {
   "name": "python"
  }
 },
 "nbformat": 4,
 "nbformat_minor": 2
}
