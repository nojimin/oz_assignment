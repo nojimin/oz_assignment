{
 "cells": [
  {
   "cell_type": "markdown",
   "metadata": {},
   "source": [
    "[문제1]\n",
    "\n",
    "DBMS 특징이 아닌것을 골라주세요\n",
    "\n",
    "- 데이터 무결성\n",
    "- 데이터 보안성\n",
    "- 데이터 일관성\n",
    "- 데이터 의존성"
   ]
  },
  {
   "cell_type": "markdown",
   "metadata": {},
   "source": [
    "정답 : 데이터 의존성"
   ]
  },
  {
   "cell_type": "markdown",
   "metadata": {},
   "source": [
    "[문제2]\n",
    "\n",
    "아래 설명에 해당하는 데이터 모델을 골라주세요\n",
    "\n",
    "```\n",
    "표 형태로 데이터를 저장하고 SQL을 사용하여 데이터를 조작합니다. \n",
    "가장 널리 사용되는 데이터 모델 중 하나이며 RDBMS에서 지원합니다.\n",
    "```\n",
    "\n",
    "- 관계형 데이터 모델\n",
    "- 객체 지향형 데이터 모델\n",
    "- 계층형 데이터 모델\n",
    "- 네트워크형 데이터 모델"
   ]
  },
  {
   "cell_type": "markdown",
   "metadata": {},
   "source": [
    "정답 : 관계형 데이터 모델"
   ]
  },
  {
   "cell_type": "markdown",
   "metadata": {},
   "source": [
    "[문제3]\n",
    "\n",
    "데이터베이스의 구조를 정의하는 것을 골라주세요\n",
    "\n",
    "- 인덱스\n",
    "- 트랜잭션\n",
    "- 스키마\n",
    "- SQL"
   ]
  },
  {
   "cell_type": "markdown",
   "metadata": {},
   "source": [
    "정답 : 스키마"
   ]
  },
  {
   "cell_type": "markdown",
   "metadata": {},
   "source": [
    "[문제4]\n",
    "\n",
    "RDBMS의 대표적인 단점이 아닌것을 골라주세요\n",
    "\n",
    "- 실시간 데이터 처리의 어려움\n",
    "- 운영 비용이 비쌈\n",
    "- 테이블 join의 복잡성\n",
    "- 미리 만들어진 스키마 구조를 변경 또는 확장하는데 어려움\n",
    "- 대량의 데이터를 저장하는게 어려움"
   ]
  },
  {
   "cell_type": "markdown",
   "metadata": {},
   "source": [
    "정답 : 대량의 데이터를 저장하는게 어려움"
   ]
  },
  {
   "cell_type": "markdown",
   "metadata": {},
   "source": [
    "[문제5]\n",
    "\n",
    "RDBMS의 구성 요소 중 고유한 값을 나타내는 것을 골라주세요\n",
    "\n",
    "- column\n",
    "- row\n",
    "- FK\n",
    "- PK"
   ]
  },
  {
   "cell_type": "markdown",
   "metadata": {},
   "source": [
    "정답 : PK"
   ]
  },
  {
   "cell_type": "markdown",
   "metadata": {},
   "source": [
    "[문제6]\n",
    "\n",
    "대표적인 RDBMS가 아닌것을 골라주세요\n",
    "\n",
    "- SQLite\n",
    "- Oracle Database\n",
    "- PostgreSQL\n",
    "- Firebase"
   ]
  },
  {
   "cell_type": "markdown",
   "metadata": {},
   "source": [
    "정답 : Firebase\n",
    "\n",
    "#### Firebase:\n",
    "Google에서 제공하는 클라우드 기반 데이터베이스 서비스로, NoSQL 데이터베이스에 해당합니다.\n",
    "\n",
    "Firebase의 Firestore는 문서(Document) 기반의 데이터 모델을 사용하며, 관계형 데이터베이스와 달리 스키마가 고정되지 않습니다.\n",
    "#### Firebase의 특징:\n",
    "NoSQL 기반 (Document 또는 Key-Value 형태로 데이터 저장)\n",
    "\n",
    "실시간 데이터 동기화 지원\n",
    "\n",
    "클라우드 기반 서비스로 모바일 및 웹 애플리케이션 개발에 적합\n",
    "\n",
    "#### RDBMS 예시:\n",
    "1. SQLite :\n",
    "    경량의 내장형 RDBMS. 모바일 및 임베디드 시스템에서 자주 사용됨.\n",
    "2. Oracle Database :\n",
    "    엔터프라이즈급 RDBMS. 대규모 데이터베이스에 적합.\n",
    "3. PostgreSQL :\n",
    "    오픈소스 RDBMS로, 복잡한 쿼리와 확장성 지원."
   ]
  },
  {
   "cell_type": "markdown",
   "metadata": {},
   "source": [
    "[문제7]\n",
    "\n",
    "물리적 스키마란 무엇을 의마하는지 골라주세요\n",
    "\n",
    "- 데이터베이스 논리적 구조\n",
    "- 데이터베이스 물리적 저장 방식\n",
    "- 데이터베이스 사용자 뷰\n",
    "- 데이터베이스의 엑세스 권한"
   ]
  },
  {
   "cell_type": "markdown",
   "metadata": {},
   "source": [
    "정답 : 데이터베이스 물리적 저장 방식"
   ]
  },
  {
   "cell_type": "markdown",
   "metadata": {},
   "source": [
    "[문제8]\n",
    "\n",
    "SQL 언어에 해당하지 않는 것을 골라주세요\n",
    "\n",
    "- 데이터 처리 언어(DML)\n",
    "- 데이터 제어 언어(DCL)\n",
    "- 데이터 연결 언어(DCL)\n",
    "- 데이터 정의 언어(DDL)"
   ]
  },
  {
   "cell_type": "markdown",
   "metadata": {},
   "source": [
    "정답 : 데이터 연결 언어(DCL)"
   ]
  },
  {
   "cell_type": "markdown",
   "metadata": {},
   "source": [
    "[문제9]\n",
    "\n",
    "데이터 처리 언어(DML)의 설명으로 틀린것을 골라주세요\n",
    "\n",
    "- select : 데이터베이스에서 정보를 검색\n",
    "- insert : 새로운 데이터를 테이블에 삽입\n",
    "- count : 테이블의 데이터 개수 확인\n",
    "- delete : 테이블에서 데이터를 삭제"
   ]
  },
  {
   "cell_type": "markdown",
   "metadata": {},
   "source": [
    "정답 : count\n",
    "\n",
    "COUNT는 SQL의 집계 함수(Aggregate Function)로, 테이블의 데이터 개수를 확인하는 데 사용됩니다.\n",
    "\n",
    "하지만 DML에 속하지 않습니다. DML은 주로 데이터의 검색, 삽입, 수정, 삭제와 관련된 명령어들로 구성됩니다.\n",
    "\n",
    "COUNT는 데이터 조작보다는 데이터 집계에 사용되므로 SQL의 집계 함수에 속합니다."
   ]
  }
 ],
 "metadata": {
  "language_info": {
   "name": "python"
  }
 },
 "nbformat": 4,
 "nbformat_minor": 2
}
