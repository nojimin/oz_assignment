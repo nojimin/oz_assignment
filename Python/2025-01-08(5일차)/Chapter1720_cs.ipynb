{
 "cells": [
  {
   "cell_type": "markdown",
   "metadata": {
    "id": "WXEwMsfUct7U"
   },
   "source": [
    "컴퓨터 기초 지식을 의미하는 CS(Computer science)는<br>\n",
    "코딩 테스트와 함께 기술 면접에서 지원자에게 필수적으로 요구합니다.<br>\n",
    "\n",
    "수업 내용 중 기술 면접에 자주 나오는 질문 3가지와 기본적으로 알아야 할 내용 과제로 선정했습니다.<br>\n",
    "\n",
    "관련 내용에 대해서는 구글링 또는 관련 서적을 통해 상세히 공부하시고<br>\n",
    "답변은 최대한 핵심만 담아 간결하게 작성해주세요<br>\n",
    "\n",
    "기술 블로그를 운영 중이신 경우<br>\n",
    "답변 내용을 기술 블로그에 작성하신 후 링크를 답변에 남겨주셔도 됩니다.<br>"
   ]
  },
  {
   "cell_type": "markdown",
   "metadata": {
    "id": "qoyC9wF-3hvs"
   },
   "source": [
    "-----"
   ]
  },
  {
   "cell_type": "markdown",
   "metadata": {
    "id": "rAD_O3Gmc_43"
   },
   "source": [
    "[문제1]\n",
    "\n",
    "객체지향에 대해서 설명해주세요"
   ]
  },
  {
   "cell_type": "markdown",
   "metadata": {},
   "source": [
    "객체지향 프로그래밍은 프로그램을 객체(object)라는 독립적인 단위로 나누어 설계하고 개발하는 프로그래밍 패러다임입니다. 객체는 데이터(속성, attributes)와 해당 데이터를 처리하는 함수(메서드, methods)를 함께 포함한 하나의 단위입니다. 이 패러다임은 현실 세계의 개념을 소프트웨어 설계에 적용하는 데 중점을 둡니다.\n",
    "\n",
    "객체지향 프로그래밍의 주요 특징으론 캡슐화(Encapsulation), 상속(Inheritance), 다형성(Polymorphism), 추상화(Abstraction) 등이 있습니다."
   ]
  },
  {
   "cell_type": "markdown",
   "metadata": {},
   "source": [
    "---"
   ]
  },
  {
   "cell_type": "markdown",
   "metadata": {
    "id": "3uK_auXYdgk2"
   },
   "source": [
    "[문제2]\n",
    "\n",
    "init 메소드에 대해 설명해주세요"
   ]
  },
  {
   "cell_type": "markdown",
   "metadata": {},
   "source": [
    "__init__ 메소드는 Python에서 클래스의 생성자(Constructor) 역할을 하는 특별한 메소드입니다. 클래스가 인스턴스화될 때(즉, 객체가 생성될 때) 자동으로 호출되며, 객체의 초기 상태를 설정하는 데 사용됩니다. 주로 인스턴스 변수의 초기값을 설정하거나, 객체 생성 시 필요한 초기 작업을 수행합니다."
   ]
  },
  {
   "cell_type": "markdown",
   "metadata": {},
   "source": [
    "[문제3]\n",
    "\n",
    "클래스 상속에 대해 설명해주세요"
   ]
  },
  {
   "cell_type": "markdown",
   "metadata": {},
   "source": [
    "클래스 상속은 기존 클래스(부모 클래스, Parent Class 또는 Base Class)의 속성과 메서드를 물려받아 새로운 클래스(자식 클래스, Child Class 또는 Derived Class)를 정의하는 것을 말합니다. 상속을 통해 기존 코드를 재사용하고, 기능을 확장하거나 변경할 수 있습니다."
   ]
  },
  {
   "cell_type": "markdown",
   "metadata": {},
   "source": [
    "[문제4]\n",
    "\n",
    "클래스 다중 상속과 관련된 MRO에 대해 설명해주세요"
   ]
  },
  {
   "cell_type": "markdown",
   "metadata": {},
   "source": [
    "MRO는 다중 상속 환경에서 메서드나 속성을 호출할 때 어떤 클래스의 메서드를 먼저 사용할지 결정하는 순서를 나타냅니다.\n",
    "Python은 이를 통해 메서드 탐색 순서를 명확히 정의하여 다중 상속의 복잡성을 해결합니다.\n",
    "\n",
    "MRO의 동작 원칙\n",
    "Python의 MRO는 C3 선형화(C3 Linearization) 알고리즘에 기반하여 동작합니다.\n",
    "\n",
    "이 알고리즘은 다음 원칙을 따릅니다:\n",
    "\n",
    "1. 자식 클래스 우선: 먼저 호출된 클래스부터 메서드를 탐색합니다.\n",
    "2. 부모 클래스의 선언 순서: 다중 상속 시, 부모 클래스가 선언된 순서를 따릅니다.\n",
    "3. 중복 방지: 이미 탐색한 클래스는 다시 탐색하지 않습니다."
   ]
  },
  {
   "cell_type": "markdown",
   "metadata": {},
   "source": [
    "[문제5]\n",
    "\n",
    "Self는 어떤 키워드 인가요?"
   ]
  },
  {
   "cell_type": "markdown",
   "metadata": {},
   "source": [
    "self는 클래스 내부에서 인스턴스를 명시적으로 참조하여, 각 객체가 독립적으로 동작할 수 있도록 하는 핵심 요소입니다.\n",
    "\n",
    "self의 특징\n",
    "1. 클래스 인스턴스를 참조\n",
    "    * self는 메서드가 호출된 객체(인스턴스)를 참조합니다.\n",
    "    * 이를 통해 클래스 내부에서 인스턴스 변수와 메서드에 접근할 수 있습니다.\n",
    "2. 첫 번째 매개변수로 암시적 전달\n",
    "    * 클래스 메서드는 첫 번째 매개변수로 항상 self를 받습니다.\n",
    "    * 이는 Python이 메서드를 호출할 때, 호출한 객체 자신을 첫 번째 인자로 자동 전달하기 때문입니다.\n",
    "3. 명시적으로 작성해야 함\n",
    "    * self는 Python에서 특별한 예약어가 아니며, 단지 관례적으로 사용되는 이름입니다.\n",
    "    * 다른 이름을 사용해도 동작하지만, 가독성과 관례를 위해 항상 self를 사용하는 것이 좋습니다."
   ]
  },
  {
   "cell_type": "markdown",
   "metadata": {},
   "source": [
    "[문제6]\n",
    "\n",
    "ZeroDivisionError,  IndexError 외에 3가지 이상의 파이썬 에러에 대해 설명해주세요"
   ]
  },
  {
   "cell_type": "markdown",
   "metadata": {},
   "source": [
    "1. KeyError : KeyError는 딕셔너리에서 존재하지 않는 키를 참조하려고 할 때 발생합니다.\n",
    "2. TypeError : TypeError는 연산이나 함수 호출 시 데이터 타입이 적합하지 않을 때 발생합니다.\n",
    "3. ValueError : ValueError는 함수나 연산이 적절한 타입의 값을 받았지만, 그 값이 올바르지 않을 때 발생합니다.\n",
    "4. AttributeError : AttributeError는 객체에 없는 속성이나 메서드를 호출하려고 할 때 발생합니다.\n",
    "5. ImportError : ImportError는 모듈이나 해당 모듈의 구성 요소를 찾을 수 없을 때 발생합니다."
   ]
  }
 ],
 "metadata": {
  "colab": {
   "authorship_tag": "ABX9TyP7YKA5FdtGggYfD74V7SMJ",
   "provenance": []
  },
  "kernelspec": {
   "display_name": "Python 3",
   "name": "python3"
  },
  "language_info": {
   "name": "python"
  }
 },
 "nbformat": 4,
 "nbformat_minor": 0
}
