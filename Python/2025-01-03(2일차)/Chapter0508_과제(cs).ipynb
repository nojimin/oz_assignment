{
 "cells": [
  {
   "cell_type": "markdown",
   "metadata": {
    "id": "WXEwMsfUct7U"
   },
   "source": [
    "컴퓨터 기초 지식을 의미하는 CS(Computer science)는<br>\n",
    "코딩 테스트와 함께 기술 면접에서 지원자에게 필수적으로 요구합니다.<br>\n",
    "\n",
    "수업 내용 중 기술 면접에 자주 나오는 질문 3가지와 기본적으로 알아야 할 내용 과제로 선정했습니다.<br>\n",
    "\n",
    "관련 내용에 대해서는 구글링 또는 관련 서적을 통해 상세히 공부하시고<br>\n",
    "답변은 최대한 핵심만 담아 간결하게 작성해주세요<br>\n",
    "\n",
    "기술 블로그를 운영 중이신 경우<br>\n",
    "답변 내용을 기술 블로그에 작성하신 후 링크를 답변에 남겨주셔도 됩니다.<br>"
   ]
  },
  {
   "cell_type": "markdown",
   "metadata": {
    "id": "qoyC9wF-3hvs"
   },
   "source": [
    "-----"
   ]
  },
  {
   "cell_type": "markdown",
   "metadata": {
    "id": "rAD_O3Gmc_43"
   },
   "source": [
    "[문제1]\n",
    "\n",
    "Python의 변수 할당 개념을 다른 언어와 비교해 설명해주세요\n"
   ]
  },
  {
   "cell_type": "markdown",
   "metadata": {},
   "source": [
    "파이썬은 동적타입으로 참조 기반으로 유연하고 직관적인 동작을 제공합니다.\n",
    "\n",
    "이는 C 언어처럼 값 복사를 하는 방식과 차이가 있습니다."
   ]
  },
  {
   "cell_type": "markdown",
   "metadata": {},
   "source": [
    "---"
   ]
  },
  {
   "cell_type": "markdown",
   "metadata": {
    "id": "3uK_auXYdgk2"
   },
   "source": [
    "[문제2]\n",
    "\n",
    "Python의 실수형(float) 계산 시 오차가 발생하는 이유에 대해 간단히 설명해 주세요"
   ]
  },
  {
   "cell_type": "markdown",
   "metadata": {},
   "source": [
    "컴퓨터는 숫자를 2진수로 받아들이기 때문에 생긴다는 것\n",
    "\n",
    "2진수의 정수부는 아래와 같이 표현할 수 있다.\n",
    "\n",
    "1 = 2^0 = 1(2) = 1\n",
    "\n",
    "1*2 = 2^1 = 10(2) = 2\n",
    "\n",
    "1*2*2 = 2^2 = 100(2) = 4\n",
    "\n",
    "그렇다면 0.75와 같은 수는 2진수로 0.11(2)와 같이 쉽게 떨어지지만 0.3과 같은 수는 어떨까?\n",
    "\n",
    "0.3 = 0.01001100110011......(무한반복)(2) 이 된다.\n",
    "\n",
    "컴퓨터의 메모리도 한계가 있으므로 결국 컴퓨터는 이 무한반복 되는 값에서 근사값을 저장하게 되고\n",
    "\n",
    "바로 여기서 오차가 발생하게 되는 것이다."
   ]
  },
  {
   "cell_type": "markdown",
   "metadata": {},
   "source": [
    "----"
   ]
  },
  {
   "cell_type": "markdown",
   "metadata": {
    "id": "2Jte2VLKdiPm"
   },
   "source": [
    "[문제3]\n",
    "\n",
    "슬라이싱에 대해 간단히 설명해주세요"
   ]
  },
  {
   "cell_type": "markdown",
   "metadata": {},
   "source": [
    "파이썬에서 슬라이싱(Slicing)은 시퀀스(Sequence) 객체를 잘라내는 기능을 제공합니다. 시퀀스 객체란 데이터의 순서가 정해진, 원소가 여러 개 있는 자료형을 의미합니다. \n",
    "\n",
    "리스트(List), 튜플(Tuple), 문자열(String), 바이트(Byte), 바이트 배열(Bytearray) 등이 시퀀스 객체에 해당합니다.\n",
    "\n",
    "슬라이싱의 기본 문법은 다음과 같습니다.\n",
    "\n",
    "시퀀스객체[시작인덱스:끝인덱스:간격]"
   ]
  }
 ],
 "metadata": {
  "colab": {
   "authorship_tag": "ABX9TyP7YKA5FdtGggYfD74V7SMJ",
   "provenance": []
  },
  "kernelspec": {
   "display_name": "Python 3",
   "name": "python3"
  },
  "language_info": {
   "codemirror_mode": {
    "name": "ipython",
    "version": 3
   },
   "file_extension": ".py",
   "mimetype": "text/x-python",
   "name": "python",
   "nbconvert_exporter": "python",
   "pygments_lexer": "ipython3",
   "version": "3.7.1"
  }
 },
 "nbformat": 4,
 "nbformat_minor": 0
}
